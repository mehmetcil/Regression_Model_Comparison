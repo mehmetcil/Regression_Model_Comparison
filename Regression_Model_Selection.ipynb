{
 "cells": [
  {
   "cell_type": "markdown",
   "metadata": {
    "colab_type": "text",
    "id": "CazISR8X_HUG"
   },
   "source": [
    "# Regression Model Selection"
   ]
  },
  {
   "cell_type": "markdown",
   "metadata": {
    "colab_type": "text",
    "id": "pOyqYHTk_Q57"
   },
   "source": [
    "## Importing the libraries"
   ]
  },
  {
   "cell_type": "code",
   "execution_count": 1,
   "metadata": {
    "colab": {},
    "colab_type": "code",
    "id": "T_YHJjnD_Tja"
   },
   "outputs": [],
   "source": [
    "import numpy as np\n",
    "import matplotlib.pyplot as plt\n",
    "import pandas as pd"
   ]
  },
  {
   "cell_type": "markdown",
   "metadata": {
    "colab_type": "text",
    "id": "vgC61-ah_WIz"
   },
   "source": [
    "## Importing the dataset"
   ]
  },
  {
   "cell_type": "markdown",
   "metadata": {
    "colab": {},
    "colab_type": "code",
    "id": "UrxyEKGn_ez7"
   },
   "source": [
    "Sample data from UCI Machine Learning Repository (https://archive.ics.uci.edu/ml/datasets/Combined+Cycle+Power+Plant#)"
   ]
  },
  {
   "cell_type": "code",
   "execution_count": 2,
   "metadata": {},
   "outputs": [],
   "source": [
    "dataset = pd.read_csv('Sample_Data.csv')\n",
    "X = dataset.iloc[:, :-1].values\n",
    "y = dataset.iloc[:, -1].values"
   ]
  },
  {
   "cell_type": "code",
   "execution_count": 3,
   "metadata": {},
   "outputs": [
    {
     "data": {
      "text/plain": [
       "(9568,)"
      ]
     },
     "execution_count": 3,
     "metadata": {},
     "output_type": "execute_result"
    }
   ],
   "source": [
    "y.shape"
   ]
  },
  {
   "cell_type": "code",
   "execution_count": 4,
   "metadata": {
    "colab": {},
    "colab_type": "code",
    "id": "TyWaNWNRuwXI"
   },
   "outputs": [],
   "source": [
    "y_reshaped = y.reshape(len(y),1)"
   ]
  },
  {
   "cell_type": "markdown",
   "metadata": {
    "colab_type": "text",
    "id": "WemVnqgeA70k"
   },
   "source": [
    "## Splitting the entire dataset into a training and test set"
   ]
  },
  {
   "cell_type": "code",
   "execution_count": 5,
   "metadata": {
    "colab": {},
    "colab_type": "code",
    "id": "Kb_v_ae-A-20"
   },
   "outputs": [],
   "source": [
    "from sklearn.model_selection import train_test_split\n",
    "X_train, X_test, y_train, y_test = train_test_split(X, y_reshaped, test_size = 0.2, random_state = 0)"
   ]
  },
  {
   "cell_type": "markdown",
   "metadata": {
    "colab_type": "text",
    "id": "oeTJl1Y4mOgX"
   },
   "source": [
    "## Feature Scaling"
   ]
  },
  {
   "cell_type": "code",
   "execution_count": 6,
   "metadata": {
    "colab": {},
    "colab_type": "code",
    "id": "BwA_L-WRmNKm"
   },
   "outputs": [],
   "source": [
    "# Apply feature scaling for SVM model\n",
    "from sklearn.preprocessing import StandardScaler\n",
    "sc_X = StandardScaler()\n",
    "sc_y = StandardScaler()\n",
    "X_train_Scaled = sc_X.fit_transform(X_train)\n",
    "y_train_Scaled = sc_y.fit_transform(y_train)"
   ]
  },
  {
   "cell_type": "markdown",
   "metadata": {
    "colab_type": "text",
    "id": "k-McZVsQBINc"
   },
   "source": [
    "## Training the regression models using the training set"
   ]
  },
  {
   "cell_type": "code",
   "execution_count": 7,
   "metadata": {
    "colab": {
     "base_uri": "https://localhost:8080/",
     "height": 34
    },
    "colab_type": "code",
    "id": "ywPjx0L1BMiD",
    "outputId": "1ed757df-6211-4aee-8a95-fbb55dd293fd"
   },
   "outputs": [
    {
     "data": {
      "text/plain": [
       "LinearRegression(copy_X=True, fit_intercept=True, n_jobs=None, normalize=False)"
      ]
     },
     "execution_count": 7,
     "metadata": {},
     "output_type": "execute_result"
    }
   ],
   "source": [
    "# Multiple linear regression model\n",
    "from sklearn.linear_model import LinearRegression\n",
    "Linear_Reg_Model = LinearRegression()\n",
    "Linear_Reg_Model.fit(X_train, y_train)"
   ]
  },
  {
   "cell_type": "code",
   "execution_count": 8,
   "metadata": {
    "colab": {
     "base_uri": "https://localhost:8080/",
     "height": 119
    },
    "colab_type": "code",
    "id": "a9BXg8fwioy6",
    "outputId": "a118caac-ab59-4760-cee2-f2b6be553727"
   },
   "outputs": [
    {
     "data": {
      "text/plain": [
       "DecisionTreeRegressor(ccp_alpha=0.0, criterion='mse', max_depth=None,\n",
       "                      max_features=None, max_leaf_nodes=None,\n",
       "                      min_impurity_decrease=0.0, min_impurity_split=None,\n",
       "                      min_samples_leaf=1, min_samples_split=2,\n",
       "                      min_weight_fraction_leaf=0.0, presort='deprecated',\n",
       "                      random_state=0, splitter='best')"
      ]
     },
     "execution_count": 8,
     "metadata": {},
     "output_type": "execute_result"
    }
   ],
   "source": [
    "# Decision tree regression model\n",
    "from sklearn.tree import DecisionTreeRegressor\n",
    "Decision_Tree_Model = DecisionTreeRegressor(random_state = 0)\n",
    "Decision_Tree_Model.fit(X_train, y_train)"
   ]
  },
  {
   "cell_type": "code",
   "execution_count": 9,
   "metadata": {
    "colab": {
     "base_uri": "https://localhost:8080/",
     "height": 34
    },
    "colab_type": "code",
    "id": "fW0_5gOwjDQs",
    "outputId": "f238e838-ee61-4986-9ce8-3ffb583633e4"
   },
   "outputs": [
    {
     "data": {
      "text/plain": [
       "LinearRegression(copy_X=True, fit_intercept=True, n_jobs=None, normalize=False)"
      ]
     },
     "execution_count": 9,
     "metadata": {},
     "output_type": "execute_result"
    }
   ],
   "source": [
    "# Polynomial regression model\n",
    "from sklearn.preprocessing import PolynomialFeatures\n",
    "from sklearn.linear_model import LinearRegression\n",
    "Polynamial_fit = PolynomialFeatures(degree = 4)\n",
    "X_poly = Polynamial_fit.fit_transform(X_train)\n",
    "Polynomial_Reg_Model = LinearRegression()\n",
    "Polynomial_Reg_Model.fit(X_poly, y_train)"
   ]
  },
  {
   "cell_type": "code",
   "execution_count": 10,
   "metadata": {
    "colab": {
     "base_uri": "https://localhost:8080/",
     "height": 190
    },
    "colab_type": "code",
    "id": "uJB2wZBdjs_D",
    "outputId": "e48d1077-415b-4972-e3ae-b0229b6ddf66"
   },
   "outputs": [
    {
     "data": {
      "text/plain": [
       "RandomForestRegressor(bootstrap=True, ccp_alpha=0.0, criterion='mse',\n",
       "                      max_depth=None, max_features='auto', max_leaf_nodes=None,\n",
       "                      max_samples=None, min_impurity_decrease=0.0,\n",
       "                      min_impurity_split=None, min_samples_leaf=1,\n",
       "                      min_samples_split=2, min_weight_fraction_leaf=0.0,\n",
       "                      n_estimators=10, n_jobs=None, oob_score=False,\n",
       "                      random_state=0, verbose=0, warm_start=False)"
      ]
     },
     "execution_count": 10,
     "metadata": {},
     "output_type": "execute_result"
    }
   ],
   "source": [
    "# Random Forest regression Model\n",
    "from sklearn.ensemble import RandomForestRegressor\n",
    "RandomForest_Model = RandomForestRegressor(n_estimators = 10, random_state = 0)\n",
    "RandomForest_Model.fit(X_train, y_train.reshape(len(y_train),))"
   ]
  },
  {
   "cell_type": "code",
   "execution_count": 11,
   "metadata": {
    "colab": {
     "base_uri": "https://localhost:8080/",
     "height": 105
    },
    "colab_type": "code",
    "id": "UGCM7wyGuNiY",
    "outputId": "83ab7c51-dd59-4931-abbd-c4aef28ad869"
   },
   "outputs": [
    {
     "data": {
      "text/plain": [
       "SVR(C=1.0, cache_size=200, coef0=0.0, degree=3, epsilon=0.1, gamma='scale',\n",
       "    kernel='rbf', max_iter=-1, shrinking=True, tol=0.001, verbose=False)"
      ]
     },
     "execution_count": 11,
     "metadata": {},
     "output_type": "execute_result"
    }
   ],
   "source": [
    "# Support vector regression model\n",
    "from sklearn.svm import SVR\n",
    "SVR_Model = SVR(kernel = 'rbf')\n",
    "SVR_Model.fit(X_train_Scaled, y_train_Scaled.reshape(len(y_train_Scaled),))"
   ]
  },
  {
   "cell_type": "markdown",
   "metadata": {
    "colab_type": "text",
    "id": "xNkXL1YQBiBT"
   },
   "source": [
    "## Predicting test set results and evaluating the model performance"
   ]
  },
  {
   "cell_type": "code",
   "execution_count": 12,
   "metadata": {
    "colab": {
     "base_uri": "https://localhost:8080/",
     "height": 102
    },
    "colab_type": "code",
    "id": "TQKmwvtdBkyb",
    "outputId": "0790c0fb-753c-417b-c5dc-a280a011cd44"
   },
   "outputs": [
    {
     "name": "stdout",
     "output_type": "stream",
     "text": [
      "Multiple Linear Regression Model R2 score: 0.93\n",
      "Decision Tree Model R2 score: 0.92\n",
      "Polynomial Regression Model R2 score: 0.95\n",
      "Random Forest Model R2 score: 0.96\n",
      "SVM Regression Model R2 score: 0.95\n"
     ]
    }
   ],
   "source": [
    "from sklearn.metrics import r2_score\n",
    "# Multiple linear regression model\n",
    "y_pred1 = Linear_Reg_Model.predict(X_test)\n",
    "print(\"Multiple Linear Regression Model R2 score: {:.2}\".format(r2_score(y_test, y_pred1)))\n",
    "# Decision tree regression model\n",
    "y_pred2 = Decision_Tree_Model.predict(X_test)\n",
    "print(\"Decision Tree Model R2 score: {:.2}\".format(r2_score(y_test, y_pred2)))\n",
    "# Polynomial regression model\n",
    "y_pred3 = Polynomial_Reg_Model.predict(Polynamial_fit.transform(X_test))\n",
    "print(\"Polynomial Regression Model R2 score: {:.2}\".format(r2_score(y_test, y_pred3)))\n",
    "# Random Forest regression Model\n",
    "y_pred4 = RandomForest_Model.predict(X_test)\n",
    "print(\"Random Forest Model R2 score: {:.2}\".format(r2_score(y_test, y_pred4)))\n",
    "# Support vector regression model\n",
    "y_pred5 = sc_y.inverse_transform(SVR_Model.predict(sc_X.transform(X_test)))\n",
    "print(\"SVM Regression Model R2 score: {:.2}\".format(r2_score(y_test, y_pred5)))"
   ]
  }
 ],
 "metadata": {
  "colab": {
   "collapsed_sections": [],
   "name": "Regression_Model_Selection.ipynb",
   "provenance": [],
   "toc_visible": true
  },
  "kernelspec": {
   "display_name": "Python 3",
   "language": "python",
   "name": "python3"
  },
  "language_info": {
   "codemirror_mode": {
    "name": "ipython",
    "version": 3
   },
   "file_extension": ".py",
   "mimetype": "text/x-python",
   "name": "python",
   "nbconvert_exporter": "python",
   "pygments_lexer": "ipython3",
   "version": "3.7.6"
  }
 },
 "nbformat": 4,
 "nbformat_minor": 1
}
